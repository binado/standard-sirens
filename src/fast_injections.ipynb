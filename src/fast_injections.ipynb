{
 "cells": [
  {
   "cell_type": "markdown",
   "metadata": {},
   "source": [
    "# Fast injection generation"
   ]
  },
  {
   "cell_type": "code",
   "execution_count": 1,
   "metadata": {},
   "outputs": [],
   "source": [
    "import sys\n",
    "sys.path.append('..')\n",
    "\n",
    "from src.gw.detector import *"
   ]
  },
  {
   "cell_type": "markdown",
   "metadata": {},
   "source": [
    "Pattern function for different detectors:"
   ]
  },
  {
   "cell_type": "code",
   "execution_count": 3,
   "metadata": {},
   "outputs": [
    {
     "name": "stdout",
     "output_type": "stream",
     "text": [
      "Pattern functions for LIGO_HANFORD: F+ = 0.47, Fx = 0.57\n",
      "Pattern functions for LIGO_LIVINGSTON: F+ = 0.50, Fx = -0.38\n",
      "Pattern functions for VIRGO: F+ = 0.37, Fx = 0.63\n",
      "Pattern functions for KAGRA: F+ = 0.42, Fx = 0.42\n"
     ]
    }
   ],
   "source": [
    "for detector in DetectorCoordinates:\n",
    "    name = detector.name\n",
    "    coords = detector.value\n",
    "    position = DetectorPosition(*coords)\n",
    "    fplus, fcross = position.pattern_function()\n",
    "    print(f\"Pattern functions for {name}: F+ = {fplus:.2f}, Fx = {fcross:.2f}\")"
   ]
  },
  {
   "cell_type": "code",
   "execution_count": null,
   "metadata": {},
   "outputs": [],
   "source": []
  }
 ],
 "metadata": {
  "kernelspec": {
   "display_name": "standard-sirens",
   "language": "python",
   "name": "python3"
  },
  "language_info": {
   "codemirror_mode": {
    "name": "ipython",
    "version": 3
   },
   "file_extension": ".py",
   "mimetype": "text/x-python",
   "name": "python",
   "nbconvert_exporter": "python",
   "pygments_lexer": "ipython3",
   "version": "3.10.13"
  }
 },
 "nbformat": 4,
 "nbformat_minor": 2
}
