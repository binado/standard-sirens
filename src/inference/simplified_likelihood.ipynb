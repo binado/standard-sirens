{
 "cells": [
  {
   "cell_type": "markdown",
   "metadata": {},
   "source": [
    "# GW cosmography with standard sirens\n",
    "## A mock analysis\n",
    "\n",
    "In this notebook, we will perform the Bayesian analysis following the paper [The Hitchhiker's guide to the galaxy catalog approach for gravitational wave cosmology](https://arxiv.org/abs/2212.08694). Their approach is implemented here in the [`SimplifiedLikelihood` class](./likelihood.py).\n",
    "\n",
    "We use the GLADE+ catalog for the redshift information. For the GW data, we make the assumption that the GW signals come from the galaxies within the catalog, and draw (at random) a value of $z$ for a particular galaxy in the catalog with $z < 1.4$, following the methodology in the paper."
   ]
  },
  {
   "cell_type": "code",
   "execution_count": null,
   "metadata": {},
   "outputs": [],
   "source": [
    "import matplotlib.pyplot as plt\n",
    "%matplotlib inline\n",
    "import numpy as np\n",
    "from .likelihood import SimplifiedLikelihood"
   ]
  },
  {
   "cell_type": "markdown",
   "metadata": {},
   "source": [
    "### Simplification 1: negligible galaxy redshift error\n",
    "\n",
    "In this section, we compute the posterior probability $p(H_0 | d_{\\text{GW}}) \\propto p(d_{\\text{GW}} | H_0)p(H_0)$ under the assumption that the true galaxy redshifts are known (i.e that we made a perfect measurement). The single event likelihood becomes\n",
    "\n",
    "\\begin{equation}\n",
    "p(d_i | H_0) = \n",
    "\\frac{\\sum_i^{N_\\text{gal}} p(d_i | d_L(\\hat{z}^i_\\text{gal}, H_0))}{\\sum_i^{N_\\text{gal}} P^{\\text{GW}}_{\\text{det}}(\\hat{z}^i_\\text{gal}, H_0)}\n",
    "\\end{equation}\n",
    "\n",
    "which corresponds to Eq. (15) of the paper."
   ]
  },
  {
   "cell_type": "markdown",
   "metadata": {},
   "source": []
  }
 ],
 "metadata": {
  "kernelspec": {
   "display_name": "Python 3",
   "language": "python",
   "name": "python3"
  },
  "language_info": {
   "name": "python",
   "version": "3.10.13"
  }
 },
 "nbformat": 4,
 "nbformat_minor": 2
}
